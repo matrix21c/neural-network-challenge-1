{
  "cells": [
    {
      "cell_type": "markdown",
      "metadata": {
        "id": "T7ZNhGcW6q6r"
      },
      "source": [
        "# Student Loan Risk with Deep Learning"
      ]
    },
    {
      "cell_type": "code",
      "execution_count": 1,
      "metadata": {
        "id": "0otrXpJc6q6u"
      },
      "outputs": [],
      "source": [
        "# Imports\n",
        "import pandas as pd\n",
        "import tensorflow as tf\n",
        "from tensorflow.keras.layers import Dense\n",
        "from tensorflow.keras.models import Sequential\n",
        "from sklearn.model_selection import train_test_split\n",
        "from sklearn.preprocessing import StandardScaler\n",
        "from sklearn.metrics import classification_report\n",
        "from pathlib import Path"
      ]
    },
    {
      "cell_type": "markdown",
      "metadata": {
        "id": "OpV4Y-3Z6q6w"
      },
      "source": [
        "---\n",
        "\n",
        "## Prepare the data to be used on a neural network model"
      ]
    },
    {
      "cell_type": "markdown",
      "metadata": {
        "id": "TUuSzp2l6q6w"
      },
      "source": [
        "### Step 1: Read the `student-loans.csv` file into a Pandas DataFrame. Review the DataFrame, looking for columns that could eventually define your features and target variables.   "
      ]
    },
    {
      "cell_type": "code",
      "execution_count": 21,
      "metadata": {
        "colab": {
          "base_uri": "https://localhost:8080/",
          "height": 226
        },
        "id": "G65km1KD6q6x",
        "outputId": "8aeb0df8-0c06-4ec0-81bc-196a229fcc7d"
      },
      "outputs": [
        {
          "output_type": "execute_result",
          "data": {
            "text/plain": [
              "   payment_history  location_parameter  stem_degree_score  gpa_ranking  \\\n",
              "0              7.4                0.70               0.00          1.9   \n",
              "1              7.8                0.88               0.00          2.6   \n",
              "2              7.8                0.76               0.04          2.3   \n",
              "3             11.2                0.28               0.56          1.9   \n",
              "4              7.4                0.70               0.00          1.9   \n",
              "\n",
              "   alumni_success  study_major_code  time_to_completion  \\\n",
              "0           0.076              11.0                34.0   \n",
              "1           0.098              25.0                67.0   \n",
              "2           0.092              15.0                54.0   \n",
              "3           0.075              17.0                60.0   \n",
              "4           0.076              11.0                34.0   \n",
              "\n",
              "   finance_workshop_score  cohort_ranking  total_loan_score  \\\n",
              "0                  0.9978            3.51              0.56   \n",
              "1                  0.9968            3.20              0.68   \n",
              "2                  0.9970            3.26              0.65   \n",
              "3                  0.9980            3.16              0.58   \n",
              "4                  0.9978            3.51              0.56   \n",
              "\n",
              "   financial_aid_score  credit_ranking  \n",
              "0                  9.4               0  \n",
              "1                  9.8               0  \n",
              "2                  9.8               0  \n",
              "3                  9.8               1  \n",
              "4                  9.4               0  "
            ],
            "text/html": [
              "\n",
              "  <div id=\"df-da932c21-ee92-4218-b2b1-c39d83d34778\" class=\"colab-df-container\">\n",
              "    <div>\n",
              "<style scoped>\n",
              "    .dataframe tbody tr th:only-of-type {\n",
              "        vertical-align: middle;\n",
              "    }\n",
              "\n",
              "    .dataframe tbody tr th {\n",
              "        vertical-align: top;\n",
              "    }\n",
              "\n",
              "    .dataframe thead th {\n",
              "        text-align: right;\n",
              "    }\n",
              "</style>\n",
              "<table border=\"1\" class=\"dataframe\">\n",
              "  <thead>\n",
              "    <tr style=\"text-align: right;\">\n",
              "      <th></th>\n",
              "      <th>payment_history</th>\n",
              "      <th>location_parameter</th>\n",
              "      <th>stem_degree_score</th>\n",
              "      <th>gpa_ranking</th>\n",
              "      <th>alumni_success</th>\n",
              "      <th>study_major_code</th>\n",
              "      <th>time_to_completion</th>\n",
              "      <th>finance_workshop_score</th>\n",
              "      <th>cohort_ranking</th>\n",
              "      <th>total_loan_score</th>\n",
              "      <th>financial_aid_score</th>\n",
              "      <th>credit_ranking</th>\n",
              "    </tr>\n",
              "  </thead>\n",
              "  <tbody>\n",
              "    <tr>\n",
              "      <th>0</th>\n",
              "      <td>7.4</td>\n",
              "      <td>0.70</td>\n",
              "      <td>0.00</td>\n",
              "      <td>1.9</td>\n",
              "      <td>0.076</td>\n",
              "      <td>11.0</td>\n",
              "      <td>34.0</td>\n",
              "      <td>0.9978</td>\n",
              "      <td>3.51</td>\n",
              "      <td>0.56</td>\n",
              "      <td>9.4</td>\n",
              "      <td>0</td>\n",
              "    </tr>\n",
              "    <tr>\n",
              "      <th>1</th>\n",
              "      <td>7.8</td>\n",
              "      <td>0.88</td>\n",
              "      <td>0.00</td>\n",
              "      <td>2.6</td>\n",
              "      <td>0.098</td>\n",
              "      <td>25.0</td>\n",
              "      <td>67.0</td>\n",
              "      <td>0.9968</td>\n",
              "      <td>3.20</td>\n",
              "      <td>0.68</td>\n",
              "      <td>9.8</td>\n",
              "      <td>0</td>\n",
              "    </tr>\n",
              "    <tr>\n",
              "      <th>2</th>\n",
              "      <td>7.8</td>\n",
              "      <td>0.76</td>\n",
              "      <td>0.04</td>\n",
              "      <td>2.3</td>\n",
              "      <td>0.092</td>\n",
              "      <td>15.0</td>\n",
              "      <td>54.0</td>\n",
              "      <td>0.9970</td>\n",
              "      <td>3.26</td>\n",
              "      <td>0.65</td>\n",
              "      <td>9.8</td>\n",
              "      <td>0</td>\n",
              "    </tr>\n",
              "    <tr>\n",
              "      <th>3</th>\n",
              "      <td>11.2</td>\n",
              "      <td>0.28</td>\n",
              "      <td>0.56</td>\n",
              "      <td>1.9</td>\n",
              "      <td>0.075</td>\n",
              "      <td>17.0</td>\n",
              "      <td>60.0</td>\n",
              "      <td>0.9980</td>\n",
              "      <td>3.16</td>\n",
              "      <td>0.58</td>\n",
              "      <td>9.8</td>\n",
              "      <td>1</td>\n",
              "    </tr>\n",
              "    <tr>\n",
              "      <th>4</th>\n",
              "      <td>7.4</td>\n",
              "      <td>0.70</td>\n",
              "      <td>0.00</td>\n",
              "      <td>1.9</td>\n",
              "      <td>0.076</td>\n",
              "      <td>11.0</td>\n",
              "      <td>34.0</td>\n",
              "      <td>0.9978</td>\n",
              "      <td>3.51</td>\n",
              "      <td>0.56</td>\n",
              "      <td>9.4</td>\n",
              "      <td>0</td>\n",
              "    </tr>\n",
              "  </tbody>\n",
              "</table>\n",
              "</div>\n",
              "    <div class=\"colab-df-buttons\">\n",
              "\n",
              "  <div class=\"colab-df-container\">\n",
              "    <button class=\"colab-df-convert\" onclick=\"convertToInteractive('df-da932c21-ee92-4218-b2b1-c39d83d34778')\"\n",
              "            title=\"Convert this dataframe to an interactive table.\"\n",
              "            style=\"display:none;\">\n",
              "\n",
              "  <svg xmlns=\"http://www.w3.org/2000/svg\" height=\"24px\" viewBox=\"0 -960 960 960\">\n",
              "    <path d=\"M120-120v-720h720v720H120Zm60-500h600v-160H180v160Zm220 220h160v-160H400v160Zm0 220h160v-160H400v160ZM180-400h160v-160H180v160Zm440 0h160v-160H620v160ZM180-180h160v-160H180v160Zm440 0h160v-160H620v160Z\"/>\n",
              "  </svg>\n",
              "    </button>\n",
              "\n",
              "  <style>\n",
              "    .colab-df-container {\n",
              "      display:flex;\n",
              "      gap: 12px;\n",
              "    }\n",
              "\n",
              "    .colab-df-convert {\n",
              "      background-color: #E8F0FE;\n",
              "      border: none;\n",
              "      border-radius: 50%;\n",
              "      cursor: pointer;\n",
              "      display: none;\n",
              "      fill: #1967D2;\n",
              "      height: 32px;\n",
              "      padding: 0 0 0 0;\n",
              "      width: 32px;\n",
              "    }\n",
              "\n",
              "    .colab-df-convert:hover {\n",
              "      background-color: #E2EBFA;\n",
              "      box-shadow: 0px 1px 2px rgba(60, 64, 67, 0.3), 0px 1px 3px 1px rgba(60, 64, 67, 0.15);\n",
              "      fill: #174EA6;\n",
              "    }\n",
              "\n",
              "    .colab-df-buttons div {\n",
              "      margin-bottom: 4px;\n",
              "    }\n",
              "\n",
              "    [theme=dark] .colab-df-convert {\n",
              "      background-color: #3B4455;\n",
              "      fill: #D2E3FC;\n",
              "    }\n",
              "\n",
              "    [theme=dark] .colab-df-convert:hover {\n",
              "      background-color: #434B5C;\n",
              "      box-shadow: 0px 1px 3px 1px rgba(0, 0, 0, 0.15);\n",
              "      filter: drop-shadow(0px 1px 2px rgba(0, 0, 0, 0.3));\n",
              "      fill: #FFFFFF;\n",
              "    }\n",
              "  </style>\n",
              "\n",
              "    <script>\n",
              "      const buttonEl =\n",
              "        document.querySelector('#df-da932c21-ee92-4218-b2b1-c39d83d34778 button.colab-df-convert');\n",
              "      buttonEl.style.display =\n",
              "        google.colab.kernel.accessAllowed ? 'block' : 'none';\n",
              "\n",
              "      async function convertToInteractive(key) {\n",
              "        const element = document.querySelector('#df-da932c21-ee92-4218-b2b1-c39d83d34778');\n",
              "        const dataTable =\n",
              "          await google.colab.kernel.invokeFunction('convertToInteractive',\n",
              "                                                    [key], {});\n",
              "        if (!dataTable) return;\n",
              "\n",
              "        const docLinkHtml = 'Like what you see? Visit the ' +\n",
              "          '<a target=\"_blank\" href=https://colab.research.google.com/notebooks/data_table.ipynb>data table notebook</a>'\n",
              "          + ' to learn more about interactive tables.';\n",
              "        element.innerHTML = '';\n",
              "        dataTable['output_type'] = 'display_data';\n",
              "        await google.colab.output.renderOutput(dataTable, element);\n",
              "        const docLink = document.createElement('div');\n",
              "        docLink.innerHTML = docLinkHtml;\n",
              "        element.appendChild(docLink);\n",
              "      }\n",
              "    </script>\n",
              "  </div>\n",
              "\n",
              "\n",
              "<div id=\"df-fc0ce642-42ea-45b6-ac65-8a24f74d34e4\">\n",
              "  <button class=\"colab-df-quickchart\" onclick=\"quickchart('df-fc0ce642-42ea-45b6-ac65-8a24f74d34e4')\"\n",
              "            title=\"Suggest charts\"\n",
              "            style=\"display:none;\">\n",
              "\n",
              "<svg xmlns=\"http://www.w3.org/2000/svg\" height=\"24px\"viewBox=\"0 0 24 24\"\n",
              "     width=\"24px\">\n",
              "    <g>\n",
              "        <path d=\"M19 3H5c-1.1 0-2 .9-2 2v14c0 1.1.9 2 2 2h14c1.1 0 2-.9 2-2V5c0-1.1-.9-2-2-2zM9 17H7v-7h2v7zm4 0h-2V7h2v10zm4 0h-2v-4h2v4z\"/>\n",
              "    </g>\n",
              "</svg>\n",
              "  </button>\n",
              "\n",
              "<style>\n",
              "  .colab-df-quickchart {\n",
              "      --bg-color: #E8F0FE;\n",
              "      --fill-color: #1967D2;\n",
              "      --hover-bg-color: #E2EBFA;\n",
              "      --hover-fill-color: #174EA6;\n",
              "      --disabled-fill-color: #AAA;\n",
              "      --disabled-bg-color: #DDD;\n",
              "  }\n",
              "\n",
              "  [theme=dark] .colab-df-quickchart {\n",
              "      --bg-color: #3B4455;\n",
              "      --fill-color: #D2E3FC;\n",
              "      --hover-bg-color: #434B5C;\n",
              "      --hover-fill-color: #FFFFFF;\n",
              "      --disabled-bg-color: #3B4455;\n",
              "      --disabled-fill-color: #666;\n",
              "  }\n",
              "\n",
              "  .colab-df-quickchart {\n",
              "    background-color: var(--bg-color);\n",
              "    border: none;\n",
              "    border-radius: 50%;\n",
              "    cursor: pointer;\n",
              "    display: none;\n",
              "    fill: var(--fill-color);\n",
              "    height: 32px;\n",
              "    padding: 0;\n",
              "    width: 32px;\n",
              "  }\n",
              "\n",
              "  .colab-df-quickchart:hover {\n",
              "    background-color: var(--hover-bg-color);\n",
              "    box-shadow: 0 1px 2px rgba(60, 64, 67, 0.3), 0 1px 3px 1px rgba(60, 64, 67, 0.15);\n",
              "    fill: var(--button-hover-fill-color);\n",
              "  }\n",
              "\n",
              "  .colab-df-quickchart-complete:disabled,\n",
              "  .colab-df-quickchart-complete:disabled:hover {\n",
              "    background-color: var(--disabled-bg-color);\n",
              "    fill: var(--disabled-fill-color);\n",
              "    box-shadow: none;\n",
              "  }\n",
              "\n",
              "  .colab-df-spinner {\n",
              "    border: 2px solid var(--fill-color);\n",
              "    border-color: transparent;\n",
              "    border-bottom-color: var(--fill-color);\n",
              "    animation:\n",
              "      spin 1s steps(1) infinite;\n",
              "  }\n",
              "\n",
              "  @keyframes spin {\n",
              "    0% {\n",
              "      border-color: transparent;\n",
              "      border-bottom-color: var(--fill-color);\n",
              "      border-left-color: var(--fill-color);\n",
              "    }\n",
              "    20% {\n",
              "      border-color: transparent;\n",
              "      border-left-color: var(--fill-color);\n",
              "      border-top-color: var(--fill-color);\n",
              "    }\n",
              "    30% {\n",
              "      border-color: transparent;\n",
              "      border-left-color: var(--fill-color);\n",
              "      border-top-color: var(--fill-color);\n",
              "      border-right-color: var(--fill-color);\n",
              "    }\n",
              "    40% {\n",
              "      border-color: transparent;\n",
              "      border-right-color: var(--fill-color);\n",
              "      border-top-color: var(--fill-color);\n",
              "    }\n",
              "    60% {\n",
              "      border-color: transparent;\n",
              "      border-right-color: var(--fill-color);\n",
              "    }\n",
              "    80% {\n",
              "      border-color: transparent;\n",
              "      border-right-color: var(--fill-color);\n",
              "      border-bottom-color: var(--fill-color);\n",
              "    }\n",
              "    90% {\n",
              "      border-color: transparent;\n",
              "      border-bottom-color: var(--fill-color);\n",
              "    }\n",
              "  }\n",
              "</style>\n",
              "\n",
              "  <script>\n",
              "    async function quickchart(key) {\n",
              "      const quickchartButtonEl =\n",
              "        document.querySelector('#' + key + ' button');\n",
              "      quickchartButtonEl.disabled = true;  // To prevent multiple clicks.\n",
              "      quickchartButtonEl.classList.add('colab-df-spinner');\n",
              "      try {\n",
              "        const charts = await google.colab.kernel.invokeFunction(\n",
              "            'suggestCharts', [key], {});\n",
              "      } catch (error) {\n",
              "        console.error('Error during call to suggestCharts:', error);\n",
              "      }\n",
              "      quickchartButtonEl.classList.remove('colab-df-spinner');\n",
              "      quickchartButtonEl.classList.add('colab-df-quickchart-complete');\n",
              "    }\n",
              "    (() => {\n",
              "      let quickchartButtonEl =\n",
              "        document.querySelector('#df-fc0ce642-42ea-45b6-ac65-8a24f74d34e4 button');\n",
              "      quickchartButtonEl.style.display =\n",
              "        google.colab.kernel.accessAllowed ? 'block' : 'none';\n",
              "    })();\n",
              "  </script>\n",
              "</div>\n",
              "\n",
              "    </div>\n",
              "  </div>\n"
            ],
            "application/vnd.google.colaboratory.intrinsic+json": {
              "type": "dataframe",
              "variable_name": "loans_df",
              "summary": "{\n  \"name\": \"loans_df\",\n  \"rows\": 1599,\n  \"fields\": [\n    {\n      \"column\": \"payment_history\",\n      \"properties\": {\n        \"dtype\": \"number\",\n        \"std\": 1.7410963181276953,\n        \"min\": 4.6,\n        \"max\": 15.9,\n        \"num_unique_values\": 96,\n        \"samples\": [\n          5.3,\n          12.7,\n          12.6\n        ],\n        \"semantic_type\": \"\",\n        \"description\": \"\"\n      }\n    },\n    {\n      \"column\": \"location_parameter\",\n      \"properties\": {\n        \"dtype\": \"number\",\n        \"std\": 0.17905970415353537,\n        \"min\": 0.12,\n        \"max\": 1.58,\n        \"num_unique_values\": 143,\n        \"samples\": [\n          1.025,\n          0.4,\n          0.87\n        ],\n        \"semantic_type\": \"\",\n        \"description\": \"\"\n      }\n    },\n    {\n      \"column\": \"stem_degree_score\",\n      \"properties\": {\n        \"dtype\": \"number\",\n        \"std\": 0.19480113740531857,\n        \"min\": 0.0,\n        \"max\": 1.0,\n        \"num_unique_values\": 80,\n        \"samples\": [\n          0.37,\n          0.0,\n          0.09\n        ],\n        \"semantic_type\": \"\",\n        \"description\": \"\"\n      }\n    },\n    {\n      \"column\": \"gpa_ranking\",\n      \"properties\": {\n        \"dtype\": \"number\",\n        \"std\": 1.4099280595072798,\n        \"min\": 0.9,\n        \"max\": 15.5,\n        \"num_unique_values\": 91,\n        \"samples\": [\n          11.0,\n          3.0,\n          15.5\n        ],\n        \"semantic_type\": \"\",\n        \"description\": \"\"\n      }\n    },\n    {\n      \"column\": \"alumni_success\",\n      \"properties\": {\n        \"dtype\": \"number\",\n        \"std\": 0.0470653020100901,\n        \"min\": 0.012,\n        \"max\": 0.611,\n        \"num_unique_values\": 153,\n        \"samples\": [\n          0.096,\n          0.343,\n          0.159\n        ],\n        \"semantic_type\": \"\",\n        \"description\": \"\"\n      }\n    },\n    {\n      \"column\": \"study_major_code\",\n      \"properties\": {\n        \"dtype\": \"number\",\n        \"std\": 10.460156969809725,\n        \"min\": 1.0,\n        \"max\": 72.0,\n        \"num_unique_values\": 60,\n        \"samples\": [\n          11.0,\n          9.0,\n          32.0\n        ],\n        \"semantic_type\": \"\",\n        \"description\": \"\"\n      }\n    },\n    {\n      \"column\": \"time_to_completion\",\n      \"properties\": {\n        \"dtype\": \"number\",\n        \"std\": 32.895324478299074,\n        \"min\": 6.0,\n        \"max\": 289.0,\n        \"num_unique_values\": 144,\n        \"samples\": [\n          68.0,\n          35.0,\n          101.0\n        ],\n        \"semantic_type\": \"\",\n        \"description\": \"\"\n      }\n    },\n    {\n      \"column\": \"finance_workshop_score\",\n      \"properties\": {\n        \"dtype\": \"number\",\n        \"std\": 0.0018873339538425554,\n        \"min\": 0.99007,\n        \"max\": 1.00369,\n        \"num_unique_values\": 436,\n        \"samples\": [\n          0.99974,\n          1.0001,\n          0.99471\n        ],\n        \"semantic_type\": \"\",\n        \"description\": \"\"\n      }\n    },\n    {\n      \"column\": \"cohort_ranking\",\n      \"properties\": {\n        \"dtype\": \"number\",\n        \"std\": 0.15438646490354277,\n        \"min\": 2.74,\n        \"max\": 4.01,\n        \"num_unique_values\": 89,\n        \"samples\": [\n          3.07,\n          3.0,\n          3.15\n        ],\n        \"semantic_type\": \"\",\n        \"description\": \"\"\n      }\n    },\n    {\n      \"column\": \"total_loan_score\",\n      \"properties\": {\n        \"dtype\": \"number\",\n        \"std\": 0.16950697959010996,\n        \"min\": 0.33,\n        \"max\": 2.0,\n        \"num_unique_values\": 96,\n        \"samples\": [\n          1.07,\n          1.04,\n          1.18\n        ],\n        \"semantic_type\": \"\",\n        \"description\": \"\"\n      }\n    },\n    {\n      \"column\": \"financial_aid_score\",\n      \"properties\": {\n        \"dtype\": \"number\",\n        \"std\": 1.0656675818563988,\n        \"min\": 8.4,\n        \"max\": 14.9,\n        \"num_unique_values\": 65,\n        \"samples\": [\n          8.5,\n          9.95,\n          9.4\n        ],\n        \"semantic_type\": \"\",\n        \"description\": \"\"\n      }\n    },\n    {\n      \"column\": \"credit_ranking\",\n      \"properties\": {\n        \"dtype\": \"number\",\n        \"std\": 0,\n        \"min\": 0,\n        \"max\": 1,\n        \"num_unique_values\": 2,\n        \"samples\": [\n          1,\n          0\n        ],\n        \"semantic_type\": \"\",\n        \"description\": \"\"\n      }\n    }\n  ]\n}"
            }
          },
          "metadata": {},
          "execution_count": 21
        }
      ],
      "source": [
        "# Read the csv into a Pandas DataFrame\n",
        "file_path = \"https://static.bc-edx.com/ai/ail-v-1-0/m18/lms/datasets/student-loans.csv\"\n",
        "loans_df = pd.read_csv(file_path)\n",
        "\n",
        "# Review the DataFrame\n",
        "loans_df.head()"
      ]
    },
    {
      "cell_type": "code",
      "execution_count": 3,
      "metadata": {
        "colab": {
          "base_uri": "https://localhost:8080/"
        },
        "id": "K8ZYB8wx6q6x",
        "outputId": "0f7db0b5-3618-4ab0-c031-f079a4e6572a"
      },
      "outputs": [
        {
          "output_type": "execute_result",
          "data": {
            "text/plain": [
              "payment_history           float64\n",
              "location_parameter        float64\n",
              "stem_degree_score         float64\n",
              "gpa_ranking               float64\n",
              "alumni_success            float64\n",
              "study_major_code          float64\n",
              "time_to_completion        float64\n",
              "finance_workshop_score    float64\n",
              "cohort_ranking            float64\n",
              "total_loan_score          float64\n",
              "financial_aid_score       float64\n",
              "credit_ranking              int64\n",
              "dtype: object"
            ]
          },
          "metadata": {},
          "execution_count": 3
        }
      ],
      "source": [
        "# Review the data types associated with the columns\n",
        "loans_df.dtypes"
      ]
    },
    {
      "cell_type": "code",
      "execution_count": 4,
      "metadata": {
        "colab": {
          "base_uri": "https://localhost:8080/"
        },
        "id": "9P8aX-dW75JO",
        "outputId": "a034f6be-e95d-4bc4-d50c-9edca5284a91"
      },
      "outputs": [
        {
          "output_type": "execute_result",
          "data": {
            "text/plain": [
              "credit_ranking\n",
              "1    855\n",
              "0    744\n",
              "Name: count, dtype: int64"
            ]
          },
          "metadata": {},
          "execution_count": 4
        }
      ],
      "source": [
        "# Check the credit_ranking value counts\n",
        "loans_df[\"credit_ranking\"].value_counts()"
      ]
    },
    {
      "cell_type": "markdown",
      "metadata": {
        "id": "R6vbZeDH6q6y"
      },
      "source": [
        "### Step 2: Using the preprocessed data, create the features (`X`) and target (`y`) datasets. The target dataset should be defined by the preprocessed DataFrame column “credit_ranking”. The remaining columns should define the features dataset."
      ]
    },
    {
      "cell_type": "code",
      "execution_count": 22,
      "metadata": {
        "colab": {
          "base_uri": "https://localhost:8080/"
        },
        "id": "Q5eVAP5M6q6y",
        "outputId": "2c2a5570-bf9d-4b21-d684-9b66846784c1"
      },
      "outputs": [
        {
          "output_type": "execute_result",
          "data": {
            "text/plain": [
              "0    0\n",
              "1    0\n",
              "2    0\n",
              "3    1\n",
              "4    0\n",
              "Name: credit_ranking, dtype: int64"
            ]
          },
          "metadata": {},
          "execution_count": 22
        }
      ],
      "source": [
        "# Define the target set y using the credit_ranking column\n",
        "\n",
        "y = loans_df[\"credit_ranking\"]\n",
        "# Display a sample of y\n",
        "y.head()"
      ]
    },
    {
      "cell_type": "code",
      "execution_count": 45,
      "metadata": {
        "colab": {
          "base_uri": "https://localhost:8080/"
        },
        "id": "IIkrD2Sn6q6z",
        "outputId": "968beed1-0dfb-4e2a-fbbd-c9fa4b8f17dc"
      },
      "outputs": [
        {
          "output_type": "stream",
          "name": "stdout",
          "text": [
            "   payment_history  location_parameter  stem_degree_score  gpa_ranking  \\\n",
            "0              7.4                0.70               0.00          1.9   \n",
            "1              7.8                0.88               0.00          2.6   \n",
            "2              7.8                0.76               0.04          2.3   \n",
            "3             11.2                0.28               0.56          1.9   \n",
            "4              7.4                0.70               0.00          1.9   \n",
            "\n",
            "   alumni_success  study_major_code  time_to_completion  \\\n",
            "0           0.076              11.0                34.0   \n",
            "1           0.098              25.0                67.0   \n",
            "2           0.092              15.0                54.0   \n",
            "3           0.075              17.0                60.0   \n",
            "4           0.076              11.0                34.0   \n",
            "\n",
            "   finance_workshop_score  cohort_ranking  total_loan_score  \\\n",
            "0                  0.9978            3.51              0.56   \n",
            "1                  0.9968            3.20              0.68   \n",
            "2                  0.9970            3.26              0.65   \n",
            "3                  0.9980            3.16              0.58   \n",
            "4                  0.9978            3.51              0.56   \n",
            "\n",
            "   financial_aid_score  \n",
            "0                  9.4  \n",
            "1                  9.8  \n",
            "2                  9.8  \n",
            "3                  9.8  \n",
            "4                  9.4  \n"
          ]
        }
      ],
      "source": [
        "# Define features set X by selecting all columns but credit_ranking\n",
        "X = loans_df.drop(columns=[\"credit_ranking\"])\n",
        "\n",
        "# Review the features DataFrame\n",
        "print(X.head())"
      ]
    },
    {
      "cell_type": "markdown",
      "metadata": {
        "id": "QmM9c-tj6q6z"
      },
      "source": [
        "### Step 3: Split the features and target sets into training and testing datasets.\n"
      ]
    },
    {
      "cell_type": "code",
      "execution_count": 24,
      "metadata": {
        "id": "OD7xwU_96q6z"
      },
      "outputs": [],
      "source": [
        "# Split the preprocessed data into a training and testing dataset\n",
        "# Assign the function a random_state equal to 1\n",
        "X_train, X_test, y_train, y_test = train_test_split(X, y, test_size=0.2, random_state=1)"
      ]
    },
    {
      "cell_type": "markdown",
      "metadata": {
        "id": "G9i6DHY06q6z"
      },
      "source": [
        "### Step 4: Use scikit-learn's `StandardScaler` to scale the features data."
      ]
    },
    {
      "cell_type": "code",
      "execution_count": 25,
      "metadata": {
        "id": "BzD3z20m6q6z"
      },
      "outputs": [],
      "source": [
        "# Create a StandardScaler instance\n",
        "scaler = StandardScaler()\n",
        "\n",
        "# Fit the scaler to the features training dataset\n",
        "X_train_scaled = scaler.fit_transform(X_train)\n",
        "\n",
        "# Fit the scaler to the features training dataset\n",
        "X_test_scaled = scaler.transform(X_test)"
      ]
    },
    {
      "cell_type": "markdown",
      "metadata": {
        "id": "CZzVDjba6q6z"
      },
      "source": [
        "---\n",
        "\n",
        "## Compile and Evaluate a Model Using a Neural Network"
      ]
    },
    {
      "cell_type": "markdown",
      "metadata": {
        "id": "m-pSux4Q6q60"
      },
      "source": [
        "### Step 1: Create a deep neural network by assigning the number of input features, the number of layers, and the number of neurons on each layer using Tensorflow’s Keras.\n",
        "\n",
        "> **Hint** You can start with a two-layer deep neural network model that uses the `relu` activation function for both layers.\n"
      ]
    },
    {
      "cell_type": "code",
      "execution_count": 26,
      "metadata": {
        "colab": {
          "base_uri": "https://localhost:8080/"
        },
        "id": "t5C94FCd6q60",
        "outputId": "728db533-b532-4294-f4c1-91e5d05580f3"
      },
      "outputs": [
        {
          "output_type": "stream",
          "name": "stdout",
          "text": [
            "Number of features: 11\n"
          ]
        }
      ],
      "source": [
        "# Define the the number of inputs (features) to the model\n",
        "input_dim = X_train_scaled.shape[1]\n",
        "\n",
        "# Review the number of features\n",
        "print(f\"Number of features: {input_dim}\")"
      ]
    },
    {
      "cell_type": "code",
      "execution_count": 31,
      "metadata": {
        "id": "c_KXDLkF6q60"
      },
      "outputs": [],
      "source": [
        "# Define the number of hidden nodes for the first hidden layer\n",
        "\n",
        "first_hidden_nodes = 6\n",
        "# Define the number of hidden nodes for the second hidden layer\n",
        "\n",
        "second_hidden_nodes = 3\n",
        "# Define the number of neurons in the output layer\n",
        "output_neurons = 1"
      ]
    },
    {
      "cell_type": "code",
      "execution_count": 32,
      "metadata": {
        "id": "63UdFncw6q60"
      },
      "outputs": [],
      "source": [
        "# Create the Sequential model instance\n",
        "model = Sequential()\n",
        "\n",
        "# Add the first hidden layer\n",
        "model.add(Dense(units=first_hidden_nodes, activation='relu', input_dim=input_dim))\n",
        "\n",
        "\n",
        "# Add the second hidden layer\n",
        "model.add(Dense(units=second_hidden_nodes, activation='relu'))\n",
        "\n",
        "\n",
        "# Add the output layer to the model specifying the number of output neurons and activation function\n",
        "model.add(Dense(units=output_neurons, activation='sigmoid'))"
      ]
    },
    {
      "cell_type": "code",
      "execution_count": 33,
      "metadata": {
        "colab": {
          "base_uri": "https://localhost:8080/"
        },
        "id": "-Beoh4f_6q61",
        "outputId": "6e3413e7-9bb6-4ec7-d8ac-a781bd6c6f25"
      },
      "outputs": [
        {
          "output_type": "stream",
          "name": "stdout",
          "text": [
            "Model: \"sequential_1\"\n",
            "_________________________________________________________________\n",
            " Layer (type)                Output Shape              Param #   \n",
            "=================================================================\n",
            " dense_3 (Dense)             (None, 6)                 72        \n",
            "                                                                 \n",
            " dense_4 (Dense)             (None, 3)                 21        \n",
            "                                                                 \n",
            " dense_5 (Dense)             (None, 1)                 4         \n",
            "                                                                 \n",
            "=================================================================\n",
            "Total params: 97 (388.00 Byte)\n",
            "Trainable params: 97 (388.00 Byte)\n",
            "Non-trainable params: 0 (0.00 Byte)\n",
            "_________________________________________________________________\n"
          ]
        }
      ],
      "source": [
        "# Display the Sequential model summary\n",
        "model.summary()"
      ]
    },
    {
      "cell_type": "markdown",
      "metadata": {
        "id": "nRqWGIRo6q61"
      },
      "source": [
        "### Step 2: Compile and fit the model using the `binary_crossentropy` loss function, the `adam` optimizer, and the `accuracy` evaluation metric.\n"
      ]
    },
    {
      "cell_type": "code",
      "execution_count": 34,
      "metadata": {
        "id": "E-hZaeSn6q61"
      },
      "outputs": [],
      "source": [
        "# Compile the Sequential model\n",
        "model.compile(loss='binary_crossentropy', optimizer='adam', metrics=['accuracy'])"
      ]
    },
    {
      "cell_type": "code",
      "execution_count": 35,
      "metadata": {
        "colab": {
          "base_uri": "https://localhost:8080/"
        },
        "id": "x25e8Idc6q61",
        "outputId": "7a7fee19-ce3c-4961-a9ec-ab2897c09cbf"
      },
      "outputs": [
        {
          "output_type": "stream",
          "name": "stdout",
          "text": [
            "Epoch 1/50\n",
            "40/40 [==============================] - 2s 7ms/step - loss: 0.6597 - accuracy: 0.6153 - val_loss: 0.6483 - val_accuracy: 0.6344\n",
            "Epoch 2/50\n",
            "40/40 [==============================] - 0s 3ms/step - loss: 0.6330 - accuracy: 0.6310 - val_loss: 0.6250 - val_accuracy: 0.6562\n",
            "Epoch 3/50\n",
            "40/40 [==============================] - 0s 3ms/step - loss: 0.6123 - accuracy: 0.6489 - val_loss: 0.6072 - val_accuracy: 0.6656\n",
            "Epoch 4/50\n",
            "40/40 [==============================] - 0s 3ms/step - loss: 0.5952 - accuracy: 0.6693 - val_loss: 0.5908 - val_accuracy: 0.6656\n",
            "Epoch 5/50\n",
            "40/40 [==============================] - 0s 3ms/step - loss: 0.5795 - accuracy: 0.6826 - val_loss: 0.5754 - val_accuracy: 0.6844\n",
            "Epoch 6/50\n",
            "40/40 [==============================] - 0s 3ms/step - loss: 0.5643 - accuracy: 0.7021 - val_loss: 0.5614 - val_accuracy: 0.7094\n",
            "Epoch 7/50\n",
            "40/40 [==============================] - 0s 3ms/step - loss: 0.5513 - accuracy: 0.7177 - val_loss: 0.5503 - val_accuracy: 0.7188\n",
            "Epoch 8/50\n",
            "40/40 [==============================] - 0s 3ms/step - loss: 0.5408 - accuracy: 0.7342 - val_loss: 0.5413 - val_accuracy: 0.7250\n",
            "Epoch 9/50\n",
            "40/40 [==============================] - 0s 3ms/step - loss: 0.5324 - accuracy: 0.7373 - val_loss: 0.5338 - val_accuracy: 0.7406\n",
            "Epoch 10/50\n",
            "40/40 [==============================] - 0s 3ms/step - loss: 0.5252 - accuracy: 0.7475 - val_loss: 0.5279 - val_accuracy: 0.7406\n",
            "Epoch 11/50\n",
            "40/40 [==============================] - 0s 3ms/step - loss: 0.5203 - accuracy: 0.7482 - val_loss: 0.5243 - val_accuracy: 0.7375\n",
            "Epoch 12/50\n",
            "40/40 [==============================] - 0s 3ms/step - loss: 0.5163 - accuracy: 0.7490 - val_loss: 0.5216 - val_accuracy: 0.7344\n",
            "Epoch 13/50\n",
            "40/40 [==============================] - 0s 3ms/step - loss: 0.5130 - accuracy: 0.7545 - val_loss: 0.5199 - val_accuracy: 0.7375\n",
            "Epoch 14/50\n",
            "40/40 [==============================] - 0s 3ms/step - loss: 0.5104 - accuracy: 0.7584 - val_loss: 0.5174 - val_accuracy: 0.7437\n",
            "Epoch 15/50\n",
            "40/40 [==============================] - 0s 3ms/step - loss: 0.5083 - accuracy: 0.7608 - val_loss: 0.5156 - val_accuracy: 0.7500\n",
            "Epoch 16/50\n",
            "40/40 [==============================] - 0s 3ms/step - loss: 0.5067 - accuracy: 0.7584 - val_loss: 0.5139 - val_accuracy: 0.7531\n",
            "Epoch 17/50\n",
            "40/40 [==============================] - 0s 3ms/step - loss: 0.5053 - accuracy: 0.7600 - val_loss: 0.5137 - val_accuracy: 0.7563\n",
            "Epoch 18/50\n",
            "40/40 [==============================] - 0s 3ms/step - loss: 0.5035 - accuracy: 0.7631 - val_loss: 0.5120 - val_accuracy: 0.7563\n",
            "Epoch 19/50\n",
            "40/40 [==============================] - 0s 2ms/step - loss: 0.5019 - accuracy: 0.7662 - val_loss: 0.5113 - val_accuracy: 0.7594\n",
            "Epoch 20/50\n",
            "40/40 [==============================] - 0s 3ms/step - loss: 0.5008 - accuracy: 0.7647 - val_loss: 0.5105 - val_accuracy: 0.7563\n",
            "Epoch 21/50\n",
            "40/40 [==============================] - 0s 3ms/step - loss: 0.4992 - accuracy: 0.7694 - val_loss: 0.5098 - val_accuracy: 0.7563\n",
            "Epoch 22/50\n",
            "40/40 [==============================] - 0s 3ms/step - loss: 0.4984 - accuracy: 0.7654 - val_loss: 0.5087 - val_accuracy: 0.7563\n",
            "Epoch 23/50\n",
            "40/40 [==============================] - 0s 3ms/step - loss: 0.4969 - accuracy: 0.7725 - val_loss: 0.5085 - val_accuracy: 0.7594\n",
            "Epoch 24/50\n",
            "40/40 [==============================] - 0s 3ms/step - loss: 0.4952 - accuracy: 0.7694 - val_loss: 0.5076 - val_accuracy: 0.7563\n",
            "Epoch 25/50\n",
            "40/40 [==============================] - 0s 3ms/step - loss: 0.4936 - accuracy: 0.7678 - val_loss: 0.5075 - val_accuracy: 0.7563\n",
            "Epoch 26/50\n",
            "40/40 [==============================] - 0s 3ms/step - loss: 0.4923 - accuracy: 0.7678 - val_loss: 0.5062 - val_accuracy: 0.7531\n",
            "Epoch 27/50\n",
            "40/40 [==============================] - 0s 3ms/step - loss: 0.4911 - accuracy: 0.7694 - val_loss: 0.5059 - val_accuracy: 0.7531\n",
            "Epoch 28/50\n",
            "40/40 [==============================] - 0s 3ms/step - loss: 0.4904 - accuracy: 0.7662 - val_loss: 0.5061 - val_accuracy: 0.7500\n",
            "Epoch 29/50\n",
            "40/40 [==============================] - 0s 3ms/step - loss: 0.4891 - accuracy: 0.7654 - val_loss: 0.5057 - val_accuracy: 0.7531\n",
            "Epoch 30/50\n",
            "40/40 [==============================] - 0s 3ms/step - loss: 0.4879 - accuracy: 0.7662 - val_loss: 0.5052 - val_accuracy: 0.7563\n",
            "Epoch 31/50\n",
            "40/40 [==============================] - 0s 3ms/step - loss: 0.4872 - accuracy: 0.7709 - val_loss: 0.5043 - val_accuracy: 0.7563\n",
            "Epoch 32/50\n",
            "40/40 [==============================] - 0s 3ms/step - loss: 0.4862 - accuracy: 0.7701 - val_loss: 0.5041 - val_accuracy: 0.7563\n",
            "Epoch 33/50\n",
            "40/40 [==============================] - 0s 3ms/step - loss: 0.4854 - accuracy: 0.7701 - val_loss: 0.5050 - val_accuracy: 0.7563\n",
            "Epoch 34/50\n",
            "40/40 [==============================] - 0s 3ms/step - loss: 0.4848 - accuracy: 0.7725 - val_loss: 0.5036 - val_accuracy: 0.7531\n",
            "Epoch 35/50\n",
            "40/40 [==============================] - 0s 3ms/step - loss: 0.4840 - accuracy: 0.7764 - val_loss: 0.5031 - val_accuracy: 0.7531\n",
            "Epoch 36/50\n",
            "40/40 [==============================] - 0s 3ms/step - loss: 0.4833 - accuracy: 0.7772 - val_loss: 0.5034 - val_accuracy: 0.7531\n",
            "Epoch 37/50\n",
            "40/40 [==============================] - 0s 3ms/step - loss: 0.4830 - accuracy: 0.7764 - val_loss: 0.5032 - val_accuracy: 0.7563\n",
            "Epoch 38/50\n",
            "40/40 [==============================] - 0s 3ms/step - loss: 0.4820 - accuracy: 0.7787 - val_loss: 0.5036 - val_accuracy: 0.7531\n",
            "Epoch 39/50\n",
            "40/40 [==============================] - 0s 3ms/step - loss: 0.4817 - accuracy: 0.7787 - val_loss: 0.5017 - val_accuracy: 0.7531\n",
            "Epoch 40/50\n",
            "40/40 [==============================] - 0s 2ms/step - loss: 0.4810 - accuracy: 0.7795 - val_loss: 0.5025 - val_accuracy: 0.7563\n",
            "Epoch 41/50\n",
            "40/40 [==============================] - 0s 3ms/step - loss: 0.4804 - accuracy: 0.7787 - val_loss: 0.5022 - val_accuracy: 0.7531\n",
            "Epoch 42/50\n",
            "40/40 [==============================] - 0s 3ms/step - loss: 0.4799 - accuracy: 0.7787 - val_loss: 0.5012 - val_accuracy: 0.7531\n",
            "Epoch 43/50\n",
            "40/40 [==============================] - 0s 2ms/step - loss: 0.4793 - accuracy: 0.7795 - val_loss: 0.5018 - val_accuracy: 0.7531\n",
            "Epoch 44/50\n",
            "40/40 [==============================] - 0s 3ms/step - loss: 0.4790 - accuracy: 0.7780 - val_loss: 0.5021 - val_accuracy: 0.7531\n",
            "Epoch 45/50\n",
            "40/40 [==============================] - 0s 3ms/step - loss: 0.4788 - accuracy: 0.7795 - val_loss: 0.5013 - val_accuracy: 0.7563\n",
            "Epoch 46/50\n",
            "40/40 [==============================] - 0s 3ms/step - loss: 0.4780 - accuracy: 0.7787 - val_loss: 0.5016 - val_accuracy: 0.7531\n",
            "Epoch 47/50\n",
            "40/40 [==============================] - 0s 3ms/step - loss: 0.4776 - accuracy: 0.7795 - val_loss: 0.5012 - val_accuracy: 0.7563\n",
            "Epoch 48/50\n",
            "40/40 [==============================] - 0s 3ms/step - loss: 0.4773 - accuracy: 0.7803 - val_loss: 0.5014 - val_accuracy: 0.7594\n",
            "Epoch 49/50\n",
            "40/40 [==============================] - 0s 2ms/step - loss: 0.4768 - accuracy: 0.7787 - val_loss: 0.5020 - val_accuracy: 0.7563\n",
            "Epoch 50/50\n",
            "40/40 [==============================] - 0s 3ms/step - loss: 0.4763 - accuracy: 0.7795 - val_loss: 0.5013 - val_accuracy: 0.7563\n"
          ]
        }
      ],
      "source": [
        "# Fit the model using 50 epochs and the training data\n",
        "history = model.fit(X_train_scaled, y_train, epochs=50, validation_data=(X_test_scaled, y_test))\n"
      ]
    },
    {
      "cell_type": "markdown",
      "metadata": {
        "id": "RfHMPZVI6q61"
      },
      "source": [
        "### Step 3: Evaluate the model using the test data to determine the model’s loss and accuracy.\n"
      ]
    },
    {
      "cell_type": "code",
      "execution_count": 36,
      "metadata": {
        "colab": {
          "base_uri": "https://localhost:8080/"
        },
        "id": "5hfVADKo6q61",
        "outputId": "1623f9b9-b4c0-4992-df0e-318a14f19823"
      },
      "outputs": [
        {
          "output_type": "stream",
          "name": "stdout",
          "text": [
            "10/10 [==============================] - 0s 2ms/step - loss: 0.5013 - accuracy: 0.7563\n",
            "Model Loss: 0.501320481300354\n",
            "Model Accuracy: 0.7562500238418579\n"
          ]
        }
      ],
      "source": [
        "# Evaluate the model loss and accuracy metrics using the evaluate method and the test data\n",
        "loss, accuracy = model.evaluate(X_test_scaled, y_test)\n",
        "\n",
        "# Display the model loss and accuracy results\n",
        "print(f\"Model Loss: {loss}\")\n",
        "print(f\"Model Accuracy: {accuracy}\")\n"
      ]
    },
    {
      "cell_type": "markdown",
      "metadata": {
        "id": "jpAv0rXA6q61"
      },
      "source": [
        "### Step 4: Save and export your model to a keras file, and name the file `student_loans.keras`.\n"
      ]
    },
    {
      "cell_type": "code",
      "execution_count": 38,
      "metadata": {
        "id": "q0MetN0W6q61"
      },
      "outputs": [],
      "source": [
        "# Set the model's file path\n",
        "model_file_path = 'student_loans.keras'\n",
        "\n",
        "# Export your model to a keras file\n",
        "model.save(model_file_path)"
      ]
    },
    {
      "cell_type": "markdown",
      "metadata": {
        "id": "R1opCDdN6q61"
      },
      "source": [
        "---\n",
        "## Predict Loan Repayment Success by Using your Neural Network Model"
      ]
    },
    {
      "cell_type": "code",
      "execution_count": 39,
      "metadata": {
        "id": "OCET2mvW6q61"
      },
      "outputs": [],
      "source": [
        "# Set the model's file path\n",
        "model_file_path = 'student_loans.keras'\n",
        "\n",
        "# Load the model to a new object\n",
        "loaded_model = tf.keras.models.load_model(model_file_path)"
      ]
    },
    {
      "cell_type": "markdown",
      "metadata": {
        "id": "rTPKooGw6q61"
      },
      "source": [
        "### Step 2: Make predictions on the testing data and save the predictions to a DataFrame."
      ]
    },
    {
      "cell_type": "code",
      "execution_count": 40,
      "metadata": {
        "colab": {
          "base_uri": "https://localhost:8080/"
        },
        "id": "Vet7qjgx6q62",
        "outputId": "5f3971bf-7ff9-4b23-8bc6-bfba50521659"
      },
      "outputs": [
        {
          "output_type": "stream",
          "name": "stdout",
          "text": [
            "10/10 [==============================] - 0s 2ms/step\n",
            "[[0.33136556]\n",
            " [0.34032443]\n",
            " [0.91162145]\n",
            " [0.7410448 ]\n",
            " [0.983296  ]\n",
            " [0.78173625]\n",
            " [0.9296571 ]\n",
            " [0.10106193]\n",
            " [0.65891016]\n",
            " [0.3015535 ]]\n"
          ]
        }
      ],
      "source": [
        "# Make predictions with the test data\n",
        "predictions = loaded_model.predict(X_test_scaled)\n",
        "\n",
        "# Display a sample of the predictions\n",
        "print(predictions[:10])"
      ]
    },
    {
      "cell_type": "code",
      "execution_count": 44,
      "metadata": {
        "colab": {
          "base_uri": "https://localhost:8080/"
        },
        "id": "87o8exFPhjfl",
        "outputId": "cd18bb5e-f463-480c-c553-9ab6f95d9617"
      },
      "outputs": [
        {
          "output_type": "stream",
          "name": "stdout",
          "text": [
            "     Predictions  Rounded\n",
            "0       0.331366        0\n",
            "1       0.340324        0\n",
            "2       0.911621        1\n",
            "3       0.741045        1\n",
            "4       0.983296        1\n",
            "..           ...      ...\n",
            "315     0.671804        1\n",
            "316     0.173066        0\n",
            "317     0.360600        0\n",
            "318     0.964073        1\n",
            "319     0.963850        1\n",
            "\n",
            "[320 rows x 2 columns]\n"
          ]
        }
      ],
      "source": [
        "# Save the predictions to a DataFrame and round the predictions to binary results\n",
        "predictions_df = pd.DataFrame(predictions, columns=[\"Predictions\"])\n",
        "predictions_df[\"Rounded\"] = (predictions_df[\"Predictions\"] > 0.5).astype(int)\n",
        "print(predictions_df)"
      ]
    },
    {
      "cell_type": "markdown",
      "metadata": {
        "id": "oxxLwycg6q62"
      },
      "source": [
        "### Step 4: Display a classification report with the y test data and predictions"
      ]
    },
    {
      "cell_type": "code",
      "execution_count": 42,
      "metadata": {
        "colab": {
          "base_uri": "https://localhost:8080/"
        },
        "id": "UTxYZibW6q67",
        "outputId": "faecaff8-c02d-4ed1-a15d-fcc6c805841a"
      },
      "outputs": [
        {
          "output_type": "stream",
          "name": "stdout",
          "text": [
            "              precision    recall  f1-score   support\n",
            "\n",
            "           0       0.74      0.76      0.75       154\n",
            "           1       0.77      0.75      0.76       166\n",
            "\n",
            "    accuracy                           0.76       320\n",
            "   macro avg       0.76      0.76      0.76       320\n",
            "weighted avg       0.76      0.76      0.76       320\n",
            "\n"
          ]
        }
      ],
      "source": [
        "# Print the classification report with the y test data and predictions\n",
        "print(classification_report(y_test, predictions_df[\"Rounded\"]))"
      ]
    },
    {
      "cell_type": "markdown",
      "metadata": {
        "id": "8Aaof1tBtcp6"
      },
      "source": [
        "---\n",
        "## Discuss creating a recommendation system for student loans"
      ]
    },
    {
      "cell_type": "markdown",
      "metadata": {
        "id": "_CC8cNpNtcp6"
      },
      "source": [
        "Briefly answer the following questions in the space provided:\n",
        "\n",
        "1. Describe the data that you would need to collect to build a recommendation system to recommend student loan options for students. Explain why this data would be relevant and appropriate.\n",
        "\n",
        "To build a recommendation system for student loan options, the following data would be relevant and appropriate:\n",
        "\n",
        "Student demographic data: Age, gender, and location. This helps in understanding the background of the student and customizing the loan options based on demographic trends.\n",
        "\n",
        "Educational data: Current institution, course of study, year of study, GPA, and academic performance. This helps in assessing the student’s academic progress and future earning potential.\n",
        "\n",
        "Financial data: Family income, student’s current income (if any), existing loans, and credit score. This helps in evaluating the financial need and repayment capacity of the student.\n",
        "\n",
        "Loan-specific data: Loan amount requested, purpose of the loan, and preferred repayment duration. This helps in tailoring the loan options to meet the student’s specific financial needs.\n",
        "\n",
        "Employment data: Current employment status, job type, and expected salary after graduation. This helps in predicting the student’s ability to repay the loan based on future income.\n",
        "\n",
        "Collecting this data is relevant and appropriate as it provides a comprehensive view of the student's financial situation, academic performance, and future earning potential, which are crucial for making informed loan recommendations.\n",
        "\n",
        "2. Based on the data you chose to use in this recommendation system, would your model be using collaborative filtering, content-based filtering, or context-based filtering? Justify why the data you selected would be suitable for your choice of filtering method.\n",
        "\n",
        "The recommendation system would use context-based filtering. This method considers various contextual factors like the student’s demographic information, academic performance, financial status, and employment data. Context-based filtering is suitable for the data selected because it allows the system to make personalized loan recommendations based on a holistic understanding of the student's unique circumstances. This approach ensures that the recommendations are tailored to the student's specific needs and financial situation.\n",
        "\n",
        "3. Describe two real-world challenges that you would take into consideration while building a recommendation system for student loans. Explain why these challenges would be of concern for a student loan recommendation system.\n",
        "\n",
        "Answer:\n",
        "\n",
        "Data Privacy and Security:\n",
        "\n",
        "Concern: Handling sensitive information like financial data, credit scores, and personal demographic details raises significant privacy and security concerns.\n",
        "Reason: Ensuring that the data is protected from unauthorized access and breaches is crucial. Any compromise in data privacy can lead to severe consequences, including identity theft and financial fraud.\n",
        "\n",
        "Data Quality and Accuracy:\n",
        "\n",
        "Concern: The accuracy and completeness of the data collected are critical for making reliable recommendations.\n",
        "Reason: Inaccurate or incomplete data can lead to poor recommendations, which may negatively impact the student’s financial situation. Ensuring data quality involves regular updates and validations to maintain the accuracy and relevance of the information used in the recommendation system.\n",
        "These challenges highlight the importance of robust data management practices and security measures to build a reliable and trustworthy recommendation system for student loans."
      ]
    },
    {
      "cell_type": "markdown",
      "metadata": {
        "id": "5KqIT8kYtcp6"
      },
      "source": [
        "**1. Describe the data that you would need to collect to build a recommendation system to recommend student loan options for students. Explain why this data would be relevant and appropriate.**\n",
        "\n",
        "\n",
        "**2. Based on the data you chose to use in this recommendation system, would your model be using collaborative filtering, content-based filtering, or context-based filtering? Justify why the data you selected would be suitable for your choice of filtering method.**\n",
        "\n",
        "\n",
        "**3. Describe two real-world challenges that you would take into consideration while building a recommendation system for student loans. Explain why these challenges would be of concern for a student loan recommendation system.**\n",
        "\n"
      ]
    }
  ],
  "metadata": {
    "colab": {
      "provenance": []
    },
    "kernelspec": {
      "display_name": "Python 3 (ipykernel)",
      "language": "python",
      "name": "python3"
    },
    "language_info": {
      "codemirror_mode": {
        "name": "ipython",
        "version": 3
      },
      "file_extension": ".py",
      "mimetype": "text/x-python",
      "name": "python",
      "nbconvert_exporter": "python",
      "pygments_lexer": "ipython3",
      "version": "3.10.10"
    }
  },
  "nbformat": 4,
  "nbformat_minor": 0
}